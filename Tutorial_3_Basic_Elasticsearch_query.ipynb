{
 "cells": [
  {
   "cell_type": "markdown",
   "metadata": {},
   "source": [
    "### In this tutorial, we give a few basic search queries that can be used to query the elasticsearch databse we prepared in Tutorial 2"
   ]
  },
  {
   "cell_type": "code",
   "execution_count": 1,
   "metadata": {},
   "outputs": [],
   "source": [
    "from elasticsearch import Elasticsearch\n",
    "from elasticsearch_dsl import Search\n",
    "from typing import List"
   ]
  },
  {
   "cell_type": "code",
   "execution_count": 2,
   "metadata": {},
   "outputs": [],
   "source": [
    "class SearchResult():\n",
    "    \"\"\"Represents a product returned from elasticsearch.\"\"\"\n",
    "    def __init__(self, id_, image, smiles):\n",
    "        self.id = id_\n",
    "        self.fragments = fragments\n",
    "        self.smiles = smiles\n",
    "\n",
    "    def from_doc(doc) -> 'SearchResult':\n",
    "        return SearchResult(\n",
    "                id_ = doc.meta.id,\n",
    "                image = doc.fragments,\n",
    "                smiles = doc.smiles,\n",
    "            )"
   ]
  },
  {
   "cell_type": "markdown",
   "metadata": {},
   "source": [
    "### Instantiating and connecting to the ElasticSearch server and creating the DSL search object"
   ]
  },
  {
   "cell_type": "code",
   "execution_count": 6,
   "metadata": {},
   "outputs": [],
   "source": [
    "DOC_TYPE = 'mol_frags'\n",
    "INDEX_NAME = 'chembl_data'\n",
    "\n",
    "es = Elasticsearch()\n",
    "s = Search(using=es, index=INDEX_NAME, doc_type=DOC_TYPE)"
   ]
  },
  {
   "cell_type": "markdown",
   "metadata": {},
   "source": [
    "### The first type of queries are Term queries\n",
    "### Term queries look for the \"EXACT\" term in a provided field. This can be used to find things like ChemblID's, Mol_reg_no's, or UNIPROT id's which are unique identifiers of molecules and proteins"
   ]
  },
  {
   "cell_type": "code",
   "execution_count": 7,
   "metadata": {},
   "outputs": [],
   "source": [
    "## This is the format of a sample query where we look at molecules with the following mol_regno number\n",
    "sample_query = {\n",
    "            \"terms\": \n",
    "            {\"mol_regno\":[\"1065000\",\"1080000\",\"1075000\",\"1070000\"]\n",
    "            }\n",
    "        }"
   ]
  },
  {
   "cell_type": "code",
   "execution_count": 8,
   "metadata": {},
   "outputs": [],
   "source": [
    "## execute the search\n",
    "docs = s.query(sample_query).execute()"
   ]
  },
  {
   "cell_type": "code",
   "execution_count": null,
   "metadata": {},
   "outputs": [],
   "source": []
  },
  {
   "cell_type": "code",
   "execution_count": null,
   "metadata": {},
   "outputs": [],
   "source": []
  },
  {
   "cell_type": "code",
   "execution_count": 9,
   "metadata": {},
   "outputs": [
    {
     "name": "stdout",
     "output_type": "stream",
     "text": [
      "CHEMBL_ID : CHEMBL1699269 MOL_REGNO : 1080000 Elasticsearch_Score : 1.0\n",
      "CHEMBL_ID : CHEMBL1649610 MOL_REGNO : 1065000 Elasticsearch_Score : 1.0\n",
      "CHEMBL_ID : CHEMBL1681819 MOL_REGNO : 1075000 Elasticsearch_Score : 1.0\n",
      "CHEMBL_ID : CHEMBL1671868 MOL_REGNO : 1070000 Elasticsearch_Score : 1.0\n"
     ]
    }
   ],
   "source": [
    "## looking at the search results\n",
    "for doc in docs:\n",
    "    print('CHEMBL_ID : ' +doc.meta['id'],'MOL_REGNO : ' +str(doc.mol_regno),'Elasticsearch_Score : ' +str(doc.meta['score']))\n"
   ]
  },
  {
   "cell_type": "code",
   "execution_count": null,
   "metadata": {},
   "outputs": [],
   "source": []
  },
  {
   "cell_type": "markdown",
   "metadata": {},
   "source": [
    "#### the doc.meta object contains meta information for that document. In this case, we look at the Score and see that this is equal to one and we retrieve the exact documents that match our mol_regno's"
   ]
  },
  {
   "cell_type": "code",
   "execution_count": 16,
   "metadata": {},
   "outputs": [],
   "source": [
    "## In this query, we try to match molecules with similar smiles as the following query\n",
    "\n",
    "sample_query = {'match':{'smiles':'C\\\\C(=C/c1cc(F)c(OCCC(F)F)cc1F)\\\\C(=O)N[C@@H]2[C@H](O)[C@@H](O)[C@H]3OCO[C@H]3[C@@H]2O'}}"
   ]
  },
  {
   "cell_type": "code",
   "execution_count": 17,
   "metadata": {},
   "outputs": [],
   "source": [
    "docs = s.query(sample_query).execute()"
   ]
  },
  {
   "cell_type": "code",
   "execution_count": null,
   "metadata": {},
   "outputs": [],
   "source": [
    "## To evaluate how similar the search results are to our initial sample query, we use rdkit's fingerprint similarity"
   ]
  },
  {
   "cell_type": "code",
   "execution_count": 18,
   "metadata": {},
   "outputs": [],
   "source": [
    "import rdkit.Chem\n",
    "from rdkit.Chem import MACCSkeys\n",
    "from rdkit import DataStructs"
   ]
  },
  {
   "cell_type": "code",
   "execution_count": 19,
   "metadata": {},
   "outputs": [],
   "source": [
    "query_smiles = \"C\\\\C(=C/c1cc(F)c(OCCC(F)F)cc1F)\\\\C(=O)N[C@@H]2[C@H](O)[C@@H](O)[C@H]3OCO[C@H]3[C@@H]2O\"\n",
    "query_fingerprint = MACCSkeys.GenMACCSKeys(rdkit.Chem.MolFromSmiles(query_smiles))"
   ]
  },
  {
   "cell_type": "code",
   "execution_count": 20,
   "metadata": {},
   "outputs": [
    {
     "name": "stdout",
     "output_type": "stream",
     "text": [
      "CHEMBL_ID : CHEMBL1644781 MACCS_similarity : 1.0 Elasticsearch_Score : 55.43736\n",
      "CHEMBL_ID : CHEMBL1644782 MACCS_similarity : 0.89 Elasticsearch_Score : 53.282974\n",
      "CHEMBL_ID : CHEMBL1644783 MACCS_similarity : 0.92 Elasticsearch_Score : 48.45689\n",
      "CHEMBL_ID : CHEMBL1644784 MACCS_similarity : 0.9 Elasticsearch_Score : 39.24539\n",
      "CHEMBL_ID : CHEMBL1644786 MACCS_similarity : 0.92 Elasticsearch_Score : 38.983902\n",
      "CHEMBL_ID : CHEMBL1723900 MACCS_similarity : 0.54 Elasticsearch_Score : 37.94413\n",
      "CHEMBL_ID : CHEMBL1644785 MACCS_similarity : 0.93 Elasticsearch_Score : 37.829983\n",
      "CHEMBL_ID : CHEMBL1650941 MACCS_similarity : 0.38 Elasticsearch_Score : 36.028313\n",
      "CHEMBL_ID : CHEMBL1673377 MACCS_similarity : 0.61 Elasticsearch_Score : 34.83581\n",
      "CHEMBL_ID : CHEMBL1683011 MACCS_similarity : 0.4 Elasticsearch_Score : 34.223824\n"
     ]
    }
   ],
   "source": [
    "for doc in docs:\n",
    "    retrieved_smiles = doc.smiles\n",
    "    retrieved_fingerprint = MACCSkeys.GenMACCSKeys(rdkit.Chem.MolFromSmiles(retrieved_smiles))\n",
    "    similarity = DataStructs.FingerprintSimilarity(query_fingerprint,retrieved_fingerprint)\n",
    "    print('CHEMBL_ID : ' + doc.meta['id'],'MACCS_similarity : ' + str(round(similarity,2)),'Elasticsearch_Score : ' +str(doc.meta['score']))"
   ]
  },
  {
   "cell_type": "markdown",
   "metadata": {},
   "source": [
    "#### Here we see that the highest scoring query result from elasticsearch has a similarity of 1.0 (exactly similar). Similarly, the next 5 molecules are have good similarities (>0.8)"
   ]
  },
  {
   "cell_type": "code",
   "execution_count": 21,
   "metadata": {},
   "outputs": [],
   "source": [
    "## In this query, we try to match molecules with fragments that similar smiles as the following query\n",
    "\n",
    "sample_query = {'match':{'fragments':\"[Xe]c1cc(F)c(F)cc1F\"}}"
   ]
  },
  {
   "cell_type": "code",
   "execution_count": null,
   "metadata": {},
   "outputs": [],
   "source": []
  },
  {
   "cell_type": "code",
   "execution_count": 22,
   "metadata": {},
   "outputs": [],
   "source": [
    "docs = s.query(sample_query).execute()"
   ]
  },
  {
   "cell_type": "code",
   "execution_count": 24,
   "metadata": {},
   "outputs": [
    {
     "name": "stdout",
     "output_type": "stream",
     "text": [
      "Fragment Found!  CHEMBL_ID : CHEMBL1689667 Elasticsearch_Score : 14.380017\n",
      "Fragment Found!  CHEMBL_ID : CHEMBL1645418 Elasticsearch_Score : 14.260451\n",
      "Fragment Not Found!  CHEMBL_ID : CHEMBL1729097 Elasticsearch_Score : 14.138317\n",
      "Fragment Found!  CHEMBL_ID : CHEMBL1683979 Elasticsearch_Score : 13.887561\n",
      "Fragment Found!  CHEMBL_ID : CHEMBL1683977 Elasticsearch_Score : 13.803261\n",
      "Fragment Found!  CHEMBL_ID : CHEMBL1683978 Elasticsearch_Score : 13.748348\n",
      "Fragment Found!  CHEMBL_ID : CHEMBL1683558 Elasticsearch_Score : 13.447982\n",
      "Fragment Found!  CHEMBL_ID : CHEMBL1683559 Elasticsearch_Score : 13.370429\n",
      "Fragment Found!  CHEMBL_ID : CHEMBL1681811 Elasticsearch_Score : 13.362166\n",
      "Fragment Found!  CHEMBL_ID : CHEMBL1683986 Elasticsearch_Score : 13.321281\n"
     ]
    }
   ],
   "source": [
    "### Let's see if our fragment query is in the retrieved documents\n",
    "for doc in docs:\n",
    "    if \"[Xe]c1cc(F)c(F)cc1F\" in doc.fragments:\n",
    "        print('Fragment Found! ','CHEMBL_ID : ' + doc.meta['id'],'Elasticsearch_Score : ' +str(doc.meta['score']))\n",
    "    else:\n",
    "        print('Fragment Not Found! ','CHEMBL_ID : ' + doc.meta['id'],'Elasticsearch_Score : ' +str(doc.meta['score']))"
   ]
  },
  {
   "cell_type": "markdown",
   "metadata": {},
   "source": [
    "#### Here we see that only one document did not have the fragment query"
   ]
  },
  {
   "cell_type": "code",
   "execution_count": 25,
   "metadata": {},
   "outputs": [],
   "source": [
    "### lets look at how similar the mismatched document to the query fragment\n",
    "query_smiles = \"[Xe]c1cc(F)c(F)cc1F\"\n",
    "query_fingerprint = MACCSkeys.GenMACCSKeys(rdkit.Chem.MolFromSmiles(query_smiles))\n",
    "\n",
    "tuple_score_fingerprint = []\n",
    "for frag in docs[2].fragments:\n",
    "    frag_fingerprint = MACCSkeys.GenMACCSKeys(rdkit.Chem.MolFromSmiles(frag))\n",
    "    similarity = DataStructs.FingerprintSimilarity(query_fingerprint,frag_fingerprint)   \n",
    "    tuple_score_fingerprint.append((similarity,frag))"
   ]
  },
  {
   "cell_type": "code",
   "execution_count": 26,
   "metadata": {},
   "outputs": [],
   "source": [
    "tuple_score_fingerprint = sorted(tuple_score_fingerprint,reverse=True)"
   ]
  },
  {
   "cell_type": "code",
   "execution_count": 28,
   "metadata": {},
   "outputs": [
    {
     "data": {
      "text/plain": [
       "[(1.0, '[Xe]c1ccc(F)cc1F'),\n",
       " (0.3333333333333333, '[Xe]C(F)(F)F'),\n",
       " (0.19047619047619047, '[Xe]c1cc([Xe])nc([Xe])n1'),\n",
       " (0.06666666666666667, '[Xe]SC'),\n",
       " (0.06666666666666667, '[Xe]O[Xe]')]"
      ]
     },
     "execution_count": 28,
     "metadata": {},
     "output_type": "execute_result"
    }
   ],
   "source": [
    "### here we see even though the string match isn't exact, the MACCS fingerprint shows that this is actually a very similar fragment as our query fragment\n",
    "tuple_score_fingerprint"
   ]
  },
  {
   "cell_type": "code",
   "execution_count": 29,
   "metadata": {},
   "outputs": [],
   "source": [
    "### Let's try a boolean query where we look for molecules that SHOULD have an instance of a fragment [Xe]c1cc([Xe])nc([Xe])n1 but MUST also have [Xe]c1ccc(F)cc1F\n",
    "\n",
    "sample_query = {\n",
    "        \"bool\": {\n",
    "            \"must\": [\n",
    "                {\"match\": \n",
    "                {\"fragments\": '[Xe]c1ccc(F)cc1F'}\n",
    "                } ],\n",
    "            \"should\": [\n",
    "                {\"match\":\n",
    "                {\"fragments\": \"[Xe]c1cc([Xe])nc([Xe])n1\"}\n",
    "                }\n",
    "                    ]\n",
    "        }\n",
    "    }\n",
    "                "
   ]
  },
  {
   "cell_type": "code",
   "execution_count": 30,
   "metadata": {},
   "outputs": [],
   "source": [
    "docs = s.query(sample_query).execute()"
   ]
  },
  {
   "cell_type": "code",
   "execution_count": 31,
   "metadata": {},
   "outputs": [
    {
     "name": "stdout",
     "output_type": "stream",
     "text": [
      "Exact Match Found!  CHEMBL_ID : CHEMBL1729097 Elasticsearch_Score : 17.376602\n",
      "MUST Criteria Met!  CHEMBL_ID : CHEMBL1722796 Elasticsearch_Score : 16.957664\n",
      "MUST Criteria Not Met!  CHEMBL_ID : CHEMBL1716756 Elasticsearch_Score : 15.275121\n",
      "MUST Criteria Not Met!  CHEMBL_ID : CHEMBL1726494 Elasticsearch_Score : 14.338987\n",
      "MUST Criteria Met!  CHEMBL_ID : CHEMBL1688410 Elasticsearch_Score : 13.874198\n",
      "MUST Criteria Not Met!  CHEMBL_ID : CHEMBL1703330 Elasticsearch_Score : 13.368966\n",
      "MUST Criteria Not Met!  CHEMBL_ID : CHEMBL1725290 Elasticsearch_Score : 13.261469\n",
      "MUST Criteria Met!  CHEMBL_ID : CHEMBL1688421 Elasticsearch_Score : 13.12858\n",
      "MUST Criteria Met!  CHEMBL_ID : CHEMBL1688422 Elasticsearch_Score : 13.12858\n",
      "MUST Criteria Met!  CHEMBL_ID : CHEMBL1688423 Elasticsearch_Score : 13.002883\n"
     ]
    }
   ],
   "source": [
    "for doc in docs:\n",
    "    if \"[Xe]c1ccc(F)cc1F\" in doc.fragments and \"[Xe]c1cc([Xe])nc([Xe])n1\" in doc.fragments:\n",
    "        print('Exact Match Found! ','CHEMBL_ID : ' + doc.meta['id'],'Elasticsearch_Score : ' +str(doc.meta['score']))\n",
    "    elif \"[Xe]c1ccc(F)cc1F\" in doc.fragments or \"[Xe]c1cc([Xe])nc([Xe])n1\" in doc.fragments:\n",
    "        print('MUST Criteria Met! ','CHEMBL_ID : ' + doc.meta['id'],'Elasticsearch_Score : ' +str(doc.meta['score']))\n",
    "    else:\n",
    "        print('MUST Criteria Not Met! ','CHEMBL_ID : ' + doc.meta['id'],'Elasticsearch_Score : ' +str(doc.meta['score']))"
   ]
  },
  {
   "cell_type": "markdown",
   "metadata": {},
   "source": [
    "#### You might be surprised as to why we have some molecules not Fulfiling the matching criteria at all. For example document 2, 3, 5 and 6"
   ]
  },
  {
   "cell_type": "code",
   "execution_count": 32,
   "metadata": {
    "scrolled": true
   },
   "outputs": [
    {
     "data": {
      "text/plain": [
       "['[Xe]NC(=NS(=O)(=O)c1ccc(F)cc1F)c1ccccc1', '[Xe]c1cc(C)on1']"
      ]
     },
     "execution_count": 32,
     "metadata": {},
     "output_type": "execute_result"
    }
   ],
   "source": [
    "docs[2].fragments"
   ]
  },
  {
   "cell_type": "code",
   "execution_count": 154,
   "metadata": {},
   "outputs": [
    {
     "data": {
      "text/plain": [
       "['[Xe]NC', '[Xe]c1cc(F)nc(F)n1']"
      ]
     },
     "execution_count": 154,
     "metadata": {},
     "output_type": "execute_result"
    }
   ],
   "source": [
    "docs[3].fragments"
   ]
  },
  {
   "cell_type": "code",
   "execution_count": 155,
   "metadata": {},
   "outputs": [
    {
     "data": {
      "text/plain": [
       "['[Xe]S(=O)(=O)c1ccc(F)cc1F', '[Xe]NC(=Nc1cccnc1)c1ccccc1']"
      ]
     },
     "execution_count": 155,
     "metadata": {},
     "output_type": "execute_result"
    }
   ],
   "source": [
    "docs[5].fragments"
   ]
  },
  {
   "cell_type": "code",
   "execution_count": 156,
   "metadata": {},
   "outputs": [
    {
     "data": {
      "text/plain": [
       "['[Xe]S(=O)(=O)c1ccc(C)cc1', '[Xe]NC(=Nc1ccc(F)cc1F)c1ccc(F)cc1']"
      ]
     },
     "execution_count": 156,
     "metadata": {},
     "output_type": "execute_result"
    }
   ],
   "source": [
    "docs[6].fragments"
   ]
  },
  {
   "cell_type": "markdown",
   "metadata": {},
   "source": [
    "#### In the next tutorial, we will talk about how special characters affect how Elasticsearch performs the indexing and retrieval of text and how we can control these settings for better matchings\n",
    "#### Unlike in regular pieces of text, the smiles format of molecules do not conform to the normal rules of tokenization, so we have to go deeper and control how we index our molecules"
   ]
  },
  {
   "cell_type": "code",
   "execution_count": null,
   "metadata": {},
   "outputs": [],
   "source": []
  }
 ],
 "metadata": {
  "kernelspec": {
   "display_name": "Python 3",
   "language": "python",
   "name": "python3"
  },
  "language_info": {
   "codemirror_mode": {
    "name": "ipython",
    "version": 3
   },
   "file_extension": ".py",
   "mimetype": "text/x-python",
   "name": "python",
   "nbconvert_exporter": "python",
   "pygments_lexer": "ipython3",
   "version": "3.6.7"
  }
 },
 "nbformat": 4,
 "nbformat_minor": 2
}
