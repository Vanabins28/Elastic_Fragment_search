{
 "cells": [
  {
   "cell_type": "code",
   "execution_count": null,
   "metadata": {},
   "outputs": [],
   "source": []
  },
  {
   "cell_type": "code",
   "execution_count": null,
   "metadata": {},
   "outputs": [],
   "source": []
  },
  {
   "cell_type": "markdown",
   "metadata": {},
   "source": [
    "# Step 1)\n",
    "Download the postgresql Chembl_24 database from here https://www.ebi.ac.uk/chembl/downloads\n",
    "\n",
    "The total size of the database is ~1.2 GB so it may take some time. Once downloaded, you can restore the database by following the instructions on included with the tarfile. This will take >30 minutes."
   ]
  },
  {
   "cell_type": "code",
   "execution_count": null,
   "metadata": {},
   "outputs": [],
   "source": []
  },
  {
   "cell_type": "markdown",
   "metadata": {},
   "source": [
    "# Step 2)\n",
    "\n",
    "We use psycopg2, a python-based postgresql adapter to communicate with the database and extract the information we are interested in.\n",
    "\n",
    "Unfortunately, the Chembl_24 is very complex. You can take a look at the schema here ftp://ftp.ebi.ac.uk/pub/databases/chembl/ChEMBLdb/latest/chembl_24_1_schema.png\n",
    "\n",
    "For this tutorial, we will retrieve all the molecules with a pchembl affinity of > 2 associated with the 107 proteins below\n",
    "\n",
    "The syntax for the retrieval is normal sql, you can take a look at the schema documentation for each table here ftp://ftp.ebi.ac.uk/pub/databases/chembl/ChEMBLdb/latest/chembl_24_1_schema_documentation.html"
   ]
  },
  {
   "cell_type": "code",
   "execution_count": null,
   "metadata": {},
   "outputs": [],
   "source": [
    "import psycopg2\n",
    "conn = psycopg2.connect(dbname='XXXX', user='XXXX', host='XXXX', password='XXXX')   ## connect to the database\n",
    "curr = conn.cursor() "
   ]
  },
  {
   "cell_type": "markdown",
   "metadata": {},
   "source": [
    "From the CHEMBL schema, we are interested in the following items,\n",
    "\n",
    "a) the CHEMBL_id of the molecules\n",
    "\n",
    "b) the MOLREGNO id\n",
    "\n",
    "c) the preferred name\n",
    "\n",
    "d) canonical smiles\n",
    "\n",
    "e) and standard INCHI data\n",
    "\n",
    "By grabbing all of these information, we can go back to the CHEMBL database to get proteins of interests"
   ]
  },
  {
   "cell_type": "code",
   "execution_count": null,
   "metadata": {},
   "outputs": [],
   "source": [
    "curr.execute(\"SELECT md.chembl_id, md.MOLREGNO, md.PREF_NAME, cs.canonical_smiles, cs.STANDARD_INCHI, cs.STANDARD_INCHI_KEY \\\n",
    "            FROM molecule_dictionary md JOIN compound_structures cs ON md.molregno = cs.molregno\")     "
   ]
  },
  {
   "cell_type": "code",
   "execution_count": null,
   "metadata": {},
   "outputs": [],
   "source": [
    "result_data = curr.fetchall()    ##run execute to fetch data"
   ]
  },
  {
   "cell_type": "code",
   "execution_count": null,
   "metadata": {},
   "outputs": [],
   "source": [
    "curr.close()    ## dont forget to close your connection!"
   ]
  },
  {
   "cell_type": "code",
   "execution_count": null,
   "metadata": {},
   "outputs": [],
   "source": []
  },
  {
   "cell_type": "markdown",
   "metadata": {},
   "source": [
    "# Step 3\n",
    "\n",
    "Once we have the list of molecules of interest, we can use RDKIT, a very popular chemoinformatics package in python, to fragment molecules and calculate molecular properties\n",
    "\n",
    "In the following sections, we used the BRICS Fragmentation Scheme to fragment molecules into constituent fragments and save them into a json file"
   ]
  },
  {
   "cell_type": "code",
   "execution_count": null,
   "metadata": {},
   "outputs": [],
   "source": [
    "import rdkit\n",
    "from rdkit import Chem\n",
    "from rdkit.Chem import AllChem\n",
    "from rdkit.Chem import BRICS"
   ]
  },
  {
   "cell_type": "code",
   "execution_count": null,
   "metadata": {},
   "outputs": [],
   "source": []
  },
  {
   "cell_type": "markdown",
   "metadata": {},
   "source": [
    "In the following sections, \n",
    "\n",
    "a) we process the molecules in blocks of 50,000 molecules, molecules with more than 100 heavy atoms are filtered out as these usually are peptides or complex carbohydrates. \n",
    "\n",
    "b) we apply BRICS fragmentation using the BRICS.BRICSDecompose command and save the fragments into a list. '[Xe]' is used as a placeholder for where BRICS performs the fragmentation. \n",
    "\n",
    "c) Finally, the molecules are saved into json files for easy reading/loading into elasticsearch\n",
    "\n",
    "!!!! VERY IMPORTANT !!!!\n",
    "BRICS Fragmentation is not perfect! For larger cyclic molecules, BRICS may accidentally get stuck into a recursive loop trying to fragment the molecule. In this case, theres no easy escape other than a hard interrupution of the kernel in jupyter notebook. Be warned that this may happen!\n"
   ]
  },
  {
   "cell_type": "code",
   "execution_count": null,
   "metadata": {},
   "outputs": [],
   "source": [
    "for a,b in [(100000,150000)]:\n",
    "    data_dictionary_list = []\n",
    "    non_fragments = []\n",
    "    for dx,dat in enumerate(result_data[a:b]):\n",
    "        temp_dict={'CHEMBL_ID':dat[0],'MOL_REGNO':dat[1],'SMILES':dat[3],'STANDARD_INCHI':dat[4]}\n",
    "        try:\n",
    "            m = Chem.MolFromSmiles(dat[3])\n",
    "            if m.GetNumHeavyAtoms() < 100:\n",
    "                frags = list(BRICS.BRICSDecompose(m))\n",
    "                frag_list = []\n",
    "                for frag in frags:\n",
    "                    frag_sub = dummy_re.sub('[Xe]',frag)\n",
    "                    if '[Xe]' in frag_sub:\n",
    "                        frag_list.append(frag_sub)\n",
    "                if frag_list:\n",
    "                    temp_dict['FRAGMENTS'] = frag_list\n",
    "                    data_dictionary_list.append(temp_dict)\n",
    "        except:\n",
    "            non_fragments.append((dx,dat[0]))\n",
    "        if dx%1000==0:\n",
    "                print(a+dx)\n",
    "    with open('CHEMBL_Molecules_fragments_'+str(a)+'_'+str(b)+'.json','w') as f:\n",
    "        json.dump(data_dictionary_list,f)"
   ]
  },
  {
   "cell_type": "markdown",
   "metadata": {},
   "source": [
    "RDKIT is more powerful than just BRICS, one can also calculate molecular properties like\n",
    "\n",
    "a) Fingerprints\n",
    "\n",
    "b) Gasteiger Charges\n",
    "\n",
    "c) 3D Conformations\n",
    "\n",
    "d) Molecular Features\n",
    "\n",
    "e) and much more!\n",
    "\n",
    "Hopefully, this will be an introduction for you to RDKIT!"
   ]
  },
  {
   "cell_type": "code",
   "execution_count": null,
   "metadata": {},
   "outputs": [],
   "source": []
  }
 ],
 "metadata": {
  "kernelspec": {
   "display_name": "Python 3",
   "language": "python",
   "name": "python3"
  },
  "language_info": {
   "codemirror_mode": {
    "name": "ipython",
    "version": 3
   },
   "file_extension": ".py",
   "mimetype": "text/x-python",
   "name": "python",
   "nbconvert_exporter": "python",
   "pygments_lexer": "ipython3",
   "version": "3.6.7"
  }
 },
 "nbformat": 4,
 "nbformat_minor": 2
}
